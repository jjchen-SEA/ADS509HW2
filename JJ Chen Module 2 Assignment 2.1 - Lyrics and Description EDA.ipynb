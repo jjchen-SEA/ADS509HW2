{
 "cells": [
  {
   "cell_type": "markdown",
   "id": "7f79baf9",
   "metadata": {},
   "source": [
    "# ADS 509 Assignment 2.1: Tokenization, Normalization, Descriptive Statistics \n",
    "\n",
    "This notebook holds Assignment 2.1 for Module 2 in ADS 509, Applied Text Mining. Work through this notebook, writing code and answering questions where required. \n",
    "\n",
    "In the previous assignment you put together Twitter data and lyrics data on two artists. In this assignment we explore some of the textual features of those data sets. If, for some reason, you did not complete that previous assignment, data to use for this assignment can be found in the assignment materials section of Blackboard. \n",
    "\n",
    "This assignment asks you to write a short function to calculate some descriptive statistics on a piece of text. Then you are asked to find some interesting and unique statistics on your corpora. \n"
   ]
  },
  {
   "cell_type": "markdown",
   "id": "aae8e2e1",
   "metadata": {},
   "source": [
    "## General Assignment Instructions\n",
    "\n",
    "These instructions are included in every assignment, to remind you of the coding standards for the class. Feel free to delete this cell after reading it. \n",
    "\n",
    "One sign of mature code is conforming to a style guide. We recommend the [Google Python Style Guide](https://google.github.io/styleguide/pyguide.html). If you use a different style guide, please include a cell with a link. \n",
    "\n",
    "Your code should be relatively easy-to-read, sensibly commented, and clean. Writing code is a messy process, so please be sure to edit your final submission. Remove any cells that are not needed or parts of cells that contain unnecessary code. Remove inessential `import` statements and make sure that all such statements are moved into the designated cell. \n",
    "\n",
    "Make use of non-code cells for written commentary. These cells should be grammatical and clearly written. In some of these cells you will have questions to answer. The questions will be marked by a \"Q:\" and will have a corresponding \"A:\" spot for you. *Make sure to answer every question marked with a `Q:` for full credit.* \n"
   ]
  },
  {
   "cell_type": "code",
   "execution_count": 1,
   "id": "e2d096b7",
   "metadata": {},
   "outputs": [],
   "source": [
    "import os\n",
    "import re\n",
    "import emoji\n",
    "import pandas as pd\n",
    "import numpy as np\n",
    "\n",
    "from collections import Counter, defaultdict\n",
    "from nltk.corpus import stopwords\n",
    "from string import punctuation\n",
    "\n",
    "sw = stopwords.words(\"english\")"
   ]
  },
  {
   "cell_type": "code",
   "execution_count": 2,
   "id": "6b555ab2",
   "metadata": {},
   "outputs": [],
   "source": [
    "# Add any additional import statements you need here\n",
    "\n",
    "import string\n",
    "import demoji\n",
    "from nltk.corpus import stopwords\n",
    "import matplotlib.pyplot as plt"
   ]
  },
  {
   "cell_type": "code",
   "execution_count": 3,
   "id": "923b5a86",
   "metadata": {},
   "outputs": [],
   "source": [
    "# change `data_location` to the location of the folder on your machine.\n",
    "data_location = \"/Users/JohnnyBlaze/ads-tm-api-scrape/\"\n",
    "\n",
    "# These subfolders should still work if you correctly stored the \n",
    "# data from the Module 1 assignment\n",
    "twitter_folder = \"twitter/\"\n",
    "lyrics_folder = \"lyrics/\""
   ]
  },
  {
   "cell_type": "code",
   "execution_count": 4,
   "id": "06522af9",
   "metadata": {},
   "outputs": [],
   "source": [
    "def descriptive_stats(tokens, num_tokens = 5, verbose=True) :\n",
    "    \"\"\"\n",
    "        Given a list of tokens, print number of tokens, number of unique tokens, \n",
    "        number of characters, lexical diversity (https://en.wikipedia.org/wiki/Lexical_diversity), \n",
    "        and num_tokens most common tokens. Return a list with the number of tokens, number\n",
    "        of unique tokens, lexical diversity, and number of characters. \n",
    "    \n",
    "    \"\"\"\n",
    "\n",
    "    # Fill in the correct values here. \n",
    "    num_tokens = len(tokens)\n",
    "    num_unique_tokens = len(set(tokens))\n",
    "    if num_tokens > 0:\n",
    "        lexical_diversity = num_unique_tokens / num_tokens\n",
    "    else:\n",
    "        lexical_diversity = 0.0\n",
    "    num_characters = sum(len(token) for token in tokens)\n",
    "    \n",
    "    if verbose :        \n",
    "        print(f\"There are {num_tokens} tokens in the data.\")\n",
    "        print(f\"There are {num_unique_tokens} unique tokens in the data.\")\n",
    "        print(f\"There are {num_characters} characters in the data.\")\n",
    "        print(f\"The lexical diversity is {lexical_diversity:.3f} in the data.\")\n",
    "    \n",
    "        # print the five most common tokens\n",
    "        common_tokens = Counter(tokens).most_common(5)\n",
    "        print(\"Most common tokens:\")\n",
    "        for token, count in common_tokens:\n",
    "            print(f\"{token}: {count}\")\n",
    "        \n",
    "    return([num_tokens, num_unique_tokens,\n",
    "            lexical_diversity,\n",
    "            num_characters])\n",
    "    "
   ]
  },
  {
   "cell_type": "code",
   "execution_count": 5,
   "id": "59dcf058",
   "metadata": {},
   "outputs": [
    {
     "name": "stdout",
     "output_type": "stream",
     "text": [
      "There are 13 tokens in the data.\n",
      "There are 9 unique tokens in the data.\n",
      "There are 55 characters in the data.\n",
      "The lexical diversity is 0.692 in the data.\n",
      "Most common tokens:\n",
      "text: 3\n",
      "here: 2\n",
      "example: 2\n",
      "is: 1\n",
      "some: 1\n"
     ]
    }
   ],
   "source": [
    "text = \"\"\"here is some example text with other example text here in this text\"\"\".split()\n",
    "assert(descriptive_stats(text, verbose=True)[0] == 13)\n",
    "assert(descriptive_stats(text, verbose=False)[1] == 9)\n",
    "assert(abs(descriptive_stats(text, verbose=False)[2] - 0.69) < 0.02)\n",
    "assert(descriptive_stats(text, verbose=False)[3] == 55)\n"
   ]
  },
  {
   "cell_type": "markdown",
   "id": "d2e7e1a2",
   "metadata": {},
   "source": [
    "Q: Why is it beneficial to use assertion statements in your code? \n",
    "\n",
    "A: These assertion statements help verify the accuracy of the 'descriptive_stats' function. They verify that the function is behaving as expected, contribute to test coverage by providing test cases to validate the behavior of the function, act to detect if any unintended changes have occured that alter the behavior of the function, and serve as examples of how to the use the function and what to expect for the given input. "
   ]
  },
  {
   "cell_type": "markdown",
   "id": "9d3bf93e",
   "metadata": {},
   "source": [
    "## Data Input\n",
    "\n",
    "Now read in each of the corpora. For the lyrics data, it may be convenient to store the entire contents of the file to make it easier to inspect the titles individually, as you'll do in the last part of the assignment. In the solution, I stored the lyrics data in a dictionary with two dimensions of keys: artist and song. The value was the file contents. A data frame would work equally well. \n",
    "\n",
    "For the Twitter data, we only need the description field for this assignment. Feel free all the descriptions read it into a data structure. In the solution, I stored the descriptions as a dictionary of lists, with the key being the artist. \n",
    "\n",
    "\n"
   ]
  },
  {
   "cell_type": "code",
   "execution_count": 6,
   "id": "37d70801",
   "metadata": {},
   "outputs": [],
   "source": [
    "lyrics_data = {}\n",
    "\n",
    "# Read in the lyrics data\n",
    "lyrics_path = os.path.join(data_location, lyrics_folder)\n",
    "\n",
    "# Iterate over artist folders\n",
    "for artist_folder in os.listdir(lyrics_path):\n",
    "    artist_folder_path = os.path.join(lyrics_path, artist_folder)\n",
    "    \n",
    "    # Check if the item is a directory\n",
    "    if os.path.isdir(artist_folder_path):\n",
    "        artist_lyrics = []\n",
    "        \n",
    "        # Iterate over files within the artist folder\n",
    "        for file_name in os.listdir(artist_folder_path):\n",
    "            file_path = os.path.join(artist_folder_path, file_name)\n",
    "            \n",
    "            # Check if the item is a file\n",
    "            if os.path.isfile(file_path):\n",
    "                with open(file_path, 'r') as file:\n",
    "                    lyrics = file.read()\n",
    "                    \n",
    "                    # Store the lyrics in the list for the current artist\n",
    "                    artist_lyrics.append(lyrics)\n",
    "        \n",
    "        # Store the list of lyrics for the current artist in the lyrics_data dictionary\n",
    "        lyrics_data[artist_folder] = artist_lyrics"
   ]
  },
  {
   "cell_type": "code",
   "execution_count": 7,
   "id": "debcac5a",
   "metadata": {},
   "outputs": [],
   "source": [
    "# Read in the twitter data\n",
    "twitter_files = os.listdir(data_location + twitter_folder)\n",
    "desc_files = [f for f in twitter_files if \"followers_data\" in f]\n",
    "twitter_data = defaultdict(list)\n",
    "\n",
    "for f in desc_files:\n",
    "    artist = f.split(\"_\")[0]\n",
    "    \n",
    "    if artist == \"robynkonichiwa\" or artist == \"cher\":\n",
    "        with open(data_location + twitter_folder + f, 'r', encoding='utf8') as infile:\n",
    "            next(infile)\n",
    "            for idx, line in enumerate(infile.readlines()):\n",
    "                line = line.strip().split(\"\\t\")\n",
    "                if len(line) == 7:\n",
    "                    twitter_data[artist].append(line[6])"
   ]
  },
  {
   "cell_type": "markdown",
   "id": "6a5f3b12",
   "metadata": {},
   "source": [
    "## Data Cleaning\n",
    "\n",
    "Now clean and tokenize your data. Remove punctuation chacters (available in the `punctuation` object in the `string` library), split on whitespace, fold to lowercase, and remove stopwords. Store your cleaned data, which must be accessible as an interable for `descriptive_stats`, in new objects or in new columns in your data frame. \n",
    "\n"
   ]
  },
  {
   "cell_type": "code",
   "execution_count": 8,
   "id": "71c73d86",
   "metadata": {},
   "outputs": [],
   "source": [
    "punctuation = set(punctuation) # speeds up comparison"
   ]
  },
  {
   "cell_type": "code",
   "execution_count": 9,
   "id": "b327033a",
   "metadata": {},
   "outputs": [],
   "source": [
    "# create your clean twitter data here\n",
    "\n",
    "# Create a set of stopwords\n",
    "stopwords_set = set(stopwords.words('english'))\n",
    "\n",
    "# Function to clean and tokenize text\n",
    "def clean_and_tokenize(twitter):\n",
    "    # Remove punctuation characters\n",
    "    twitter = ''.join([char for char in twitter if char not in punctuation])\n",
    "    \n",
    "    # Split on whitespace and convert to lowercase\n",
    "    twitter = twitter.lower().split()\n",
    "    \n",
    "    # Remove stopwords\n",
    "    twitter = [word for word in twitter if word not in stopwords_set]\n",
    "    \n",
    "    return twitter\n",
    "\n",
    "# Clean and tokenize the Twitter data\n",
    "cleaned_twitter_data = defaultdict(list)\n",
    "for artist, tweets in twitter_data.items():\n",
    "    for tweet in tweets:\n",
    "        cleaned_tweet = clean_and_tokenize(tweet)\n",
    "        cleaned_twitter_data[artist].append(cleaned_tweet)"
   ]
  },
  {
   "cell_type": "code",
   "execution_count": 10,
   "id": "e0f22e10",
   "metadata": {},
   "outputs": [],
   "source": [
    "# create your clean lyrics data here\n",
    "\n",
    "# create my list of stop words\n",
    "stopwords_set = set(stopwords.words('english'))\n",
    "\n",
    "# Function to clean and tokenize lyrics\n",
    "def clean_and_tokenize(lyrics):\n",
    "    # Remove punctuation characters\n",
    "    lyrics = ''.join([char for char in lyrics if char not in punctuation])\n",
    "    \n",
    "    # Split on whitespace and convert to lowercase\n",
    "    lyrics = lyrics.lower().split()\n",
    "    \n",
    "    # Remove stopwords\n",
    "    lyrics = [word for word in lyrics if word not in stopwords_set]\n",
    "    \n",
    "    return lyrics\n",
    "\n",
    "# Clean and tokenize the lyrics data\n",
    "cleaned_lyrics_data = defaultdict(list)\n",
    "for artist, lyrics_list in lyrics_data.items():\n",
    "    for lyrics in lyrics_list:\n",
    "        cleaned_lyrics = clean_and_tokenize(lyrics)\n",
    "        cleaned_lyrics_data[artist].append(cleaned_lyrics)"
   ]
  },
  {
   "cell_type": "markdown",
   "id": "f2dd0179",
   "metadata": {},
   "source": [
    "## Basic Descriptive Statistics\n",
    "\n",
    "Call your `descriptive_stats` function on both your lyrics data and your twitter data and for both artists (four total calls). "
   ]
  },
  {
   "cell_type": "code",
   "execution_count": 11,
   "id": "f0bbedd9",
   "metadata": {
    "scrolled": false
   },
   "outputs": [
    {
     "name": "stdout",
     "output_type": "stream",
     "text": [
      "Lyrics Data - Artist: Robyn\n",
      "There are 15227 tokens in the data.\n",
      "There are 2156 unique tokens in the data.\n",
      "There are 73787 characters in the data.\n",
      "The lexical diversity is 0.142 in the data.\n",
      "Most common tokens:\n",
      "know: 308\n",
      "dont: 301\n",
      "im: 299\n",
      "love: 275\n",
      "got: 251\n",
      "\n",
      "Lyrics Data - Artist: Cher\n",
      "There are 35916 tokens in the data.\n",
      "There are 3703 unique tokens in the data.\n",
      "There are 172634 characters in the data.\n",
      "The lexical diversity is 0.103 in the data.\n",
      "Most common tokens:\n",
      "love: 1004\n",
      "im: 513\n",
      "know: 486\n",
      "dont: 440\n",
      "youre: 333\n",
      "\n",
      "Twitter Data - Artist: Robyn\n",
      "There are 1495526 tokens in the data.\n",
      "There are 252736 unique tokens in the data.\n",
      "There are 9127817 characters in the data.\n",
      "The lexical diversity is 0.169 in the data.\n",
      "Most common tokens:\n",
      "music: 15147\n",
      "love: 11677\n",
      "im: 9051\n",
      "och: 7922\n",
      "life: 7383\n",
      "\n",
      "Twitter Data - Artist: Cher\n",
      "There are 15670504 tokens in the data.\n",
      "There are 1517718 unique tokens in the data.\n",
      "There are 92951718 characters in the data.\n",
      "The lexical diversity is 0.097 in the data.\n",
      "Most common tokens:\n",
      "love: 214576\n",
      "im: 139098\n",
      "life: 122980\n",
      "music: 88177\n",
      "de: 72974\n",
      "\n"
     ]
    }
   ],
   "source": [
    "# calls to descriptive_stats here\n",
    "\n",
    "# Separate lyrics data for Robyn and Cher\n",
    "robyn_lyrics = [token for sublist in cleaned_lyrics_data['robyn'] for token in sublist]\n",
    "cher_lyrics = [token for sublist in cleaned_lyrics_data['cher'] for token in sublist]\n",
    "\n",
    "# Separate Twitter data for Robyn and Cher\n",
    "robyn_twitter = [token for sublist in cleaned_twitter_data['robynkonichiwa'] for token in sublist]\n",
    "cher_twitter = [token for sublist in cleaned_twitter_data['cher'] for token in sublist]\n",
    "\n",
    "# Call descriptive_stats on Robyn's lyrics data\n",
    "print(\"Lyrics Data - Artist: Robyn\")\n",
    "stats = descriptive_stats(robyn_lyrics, num_tokens=5, verbose=True)\n",
    "print(\"\")\n",
    "\n",
    "# Call descriptive_stats on Cher's lyrics data\n",
    "print(\"Lyrics Data - Artist: Cher\")\n",
    "stats = descriptive_stats(cher_lyrics, num_tokens=5, verbose=True)\n",
    "print(\"\")\n",
    "\n",
    "# Call descriptive_stats on Robyn's Twitter data\n",
    "print(\"Twitter Data - Artist: Robyn\")\n",
    "stats = descriptive_stats(robyn_twitter, num_tokens=5, verbose=True)\n",
    "print(\"\")\n",
    "\n",
    "# Call descriptive_stats on Cher's Twitter data\n",
    "print(\"Twitter Data - Artist: Cher\")\n",
    "stats = descriptive_stats(cher_twitter, num_tokens=5, verbose=True)\n",
    "print(\"\")"
   ]
  },
  {
   "cell_type": "markdown",
   "id": "46294409",
   "metadata": {},
   "source": [
    "Q: How do you think the \"top 5 words\" would be different if we left stopwords in the data? \n",
    "\n",
    "A: Definitely, I think the top 5 words would only consist of stop words if left in the data such as 'a', 'the', 'and', and more. The reasons for removing them 1) they provide no meaningful information. 2) Removing them speeds up the computation. In this instance I think we remove them since they do not provide meaningful information. \n",
    "\n",
    "---\n",
    "\n",
    "Q: What were your prior beliefs about the lexical diversity between the artists? Does the difference (or lack thereof) in lexical diversity between the artists conform to your prior beliefs? \n",
    "\n",
    "A: To be honest I had no idea who Robyn is. I had to look her up and she is a pop singer and DJ. Cher has some famous songs, so I do know her and since both genres are pop I assume the leical diversity should be similar for both artists. To my surprise Robyn had more. They do have lots of crossover in tokens and most common ones overlap such as love, music, life, and im.\n"
   ]
  },
  {
   "cell_type": "markdown",
   "id": "4d4e1ac1",
   "metadata": {},
   "source": [
    "\n",
    "## Specialty Statistics\n",
    "\n",
    "The descriptive statistics we have calculated are quite generic. You will now calculate a handful of statistics tailored to these data.\n",
    "\n",
    "1. Ten most common emojis by artist in the twitter descriptions.\n",
    "1. Ten most common hashtags by artist in the twitter descriptions.\n",
    "1. Five most common words in song titles by artist. \n",
    "1. For each artist, a histogram of song lengths (in terms of number of tokens) \n",
    "\n",
    "We can use the `emoji` library to help us identify emojis and you have been given a function to help you.\n"
   ]
  },
  {
   "cell_type": "code",
   "execution_count": 12,
   "id": "753a5a3e",
   "metadata": {},
   "outputs": [],
   "source": [
    "assert(emoji.is_emoji(\"❤️\"))\n",
    "assert(not emoji.is_emoji(\":-)\"))"
   ]
  },
  {
   "cell_type": "markdown",
   "id": "986fc4c0",
   "metadata": {},
   "source": [
    "### Emojis 😁\n",
    "\n",
    "What are the ten most common emojis by artist in the twitter descriptions? \n",
    "\n",
    "A: Please see below from the code results.\n"
   ]
  },
  {
   "cell_type": "code",
   "execution_count": 13,
   "id": "5d556fbe",
   "metadata": {},
   "outputs": [
    {
     "name": "stdout",
     "output_type": "stream",
     "text": [
      "Artist: cher\n",
      "Ten most common emojis:\n",
      "❤: 79223\n",
      "🌈: 47549\n",
      "♥: 33978\n",
      "🏳: 33412\n",
      "✨: 29468\n",
      "💙: 21379\n",
      "🏻: 20930\n",
      "🌊: 20223\n",
      "✌: 16773\n",
      "💜: 16550\n",
      "\n",
      "Artist: robynkonichiwa\n",
      "Ten most common emojis:\n",
      "❤: 4783\n",
      "🌈: 4685\n",
      "🏳: 3528\n",
      "♥: 3103\n",
      "✨: 2223\n",
      "🏻: 1495\n",
      "✌: 1189\n",
      "🏼: 1139\n",
      "♀: 836\n",
      "💙: 809\n",
      "\n"
     ]
    }
   ],
   "source": [
    "# Your code here\n",
    "\n",
    "# Function to extract emojis from a string\n",
    "def extract_emojis(text):\n",
    "    return [c for c in text if emoji.is_emoji(c)]\n",
    "\n",
    "# Dictionary to store the count of emojis for each artist\n",
    "emoji_counts = {}\n",
    "\n",
    "# Iterate over the artists\n",
    "for artist, descriptions in twitter_data.items():\n",
    "    emoji_counts[artist] = Counter()\n",
    "    \n",
    "    for description in descriptions:\n",
    "        emojis = extract_emojis(description)\n",
    "        emoji_counts[artist].update(emojis)\n",
    "\n",
    "# Print the ten most common emojis for each artist\n",
    "for artist, emojis in emoji_counts.items():\n",
    "    print(f\"Artist: {artist}\")\n",
    "    print(\"Ten most common emojis:\")\n",
    "    for emoji, count in emojis.most_common(10):\n",
    "        print(f\"{emoji}: {count}\")\n",
    "    print(\"\")"
   ]
  },
  {
   "cell_type": "markdown",
   "id": "bab9b770",
   "metadata": {},
   "source": [
    "### Hashtags\n",
    "\n",
    "What are the ten most common hashtags by artist in the twitter descriptions? \n",
    "\n",
    "A: Please see below from the code results\n"
   ]
  },
  {
   "cell_type": "code",
   "execution_count": 14,
   "id": "07c396f1",
   "metadata": {},
   "outputs": [
    {
     "name": "stdout",
     "output_type": "stream",
     "text": [
      "Artist: cher\n",
      "Ten most common hashtags:\n",
      "#BLM: 9535\n",
      "#Resist: 6036\n",
      "#BlackLivesMatter: 4681\n",
      "#resist: 3797\n",
      "#FBR: 3239\n",
      "#TheResistance: 2995\n",
      "#blacklivesmatter: 2645\n",
      "#1: 2627\n",
      "#Resistance: 1919\n",
      "#RESIST: 1823\n",
      "\n",
      "Artist: robynkonichiwa\n",
      "Ten most common hashtags:\n",
      "#BlackLivesMatter: 337\n",
      "#BLM: 306\n",
      "#blacklivesmatter: 208\n",
      "#1: 199\n",
      "#music: 174\n",
      "#Music: 113\n",
      "#EDM: 86\n",
      "#LGBTQ: 75\n",
      "#TeamFollowBack: 59\n",
      "#blm: 56\n",
      "\n"
     ]
    }
   ],
   "source": [
    "# Your code here\n",
    "\n",
    "# Function to extract hashtags from a string\n",
    "def extract_hashtags(text):\n",
    "    return re.findall(r\"#(\\w+)\", text)\n",
    "\n",
    "# Dictionary to store the count of hashtags for each artist\n",
    "hashtag_counts = {}\n",
    "\n",
    "# Iterate over the artists\n",
    "for artist, descriptions in twitter_data.items():\n",
    "    hashtag_counts[artist] = Counter() \n",
    "    \n",
    "    for description in descriptions:\n",
    "        hashtags = extract_hashtags(description)\n",
    "        hashtag_counts[artist].update(hashtags)\n",
    "\n",
    "# Print the ten most common hashtags for each artist\n",
    "for artist, hashtags in hashtag_counts.items():\n",
    "    print(f\"Artist: {artist}\")\n",
    "    print(\"Ten most common hashtags:\")\n",
    "    for hashtag, count in hashtags.most_common(10):\n",
    "        print(f\"#{hashtag}: {count}\")\n",
    "    print(\"\")"
   ]
  },
  {
   "cell_type": "markdown",
   "id": "d10f21d5",
   "metadata": {},
   "source": [
    "### Song Titles\n",
    "\n",
    "What are the five most common words in song titles by artist? The song titles should be on the first line of the lyrics pages, so if you have kept the raw file contents around, you will not need to re-read the data.\n"
   ]
  },
  {
   "cell_type": "code",
   "execution_count": 15,
   "id": "bb69b36b",
   "metadata": {},
   "outputs": [
    {
     "name": "stdout",
     "output_type": "stream",
     "text": [
      "Artist: robyn\n",
      "Five most common words in song titles:\n",
      "know: 308\n",
      "dont: 301\n",
      "im: 299\n",
      "love: 275\n",
      "got: 251\n",
      "\n",
      "Artist: cher\n",
      "Five most common words in song titles:\n",
      "love: 1004\n",
      "im: 513\n",
      "know: 486\n",
      "dont: 440\n",
      "youre: 333\n",
      "\n"
     ]
    }
   ],
   "source": [
    "# Your code here\n",
    "\n",
    "# Dictionary to store the count of words in song titles for each artist\n",
    "title_word_counts = {}\n",
    "\n",
    "# Iterate over the artists\n",
    "for artist, lyrics_list in cleaned_lyrics_data.items():\n",
    "    title_word_counts[artist] = Counter()\n",
    "    \n",
    "    for lyrics in lyrics_list:\n",
    "        for line in lyrics:\n",
    "            if line.strip():\n",
    "                title = line.strip()\n",
    "                words = title.split()\n",
    "                title_word_counts[artist].update(words)\n",
    "\n",
    "# Print the five most common words in song titles for each artist\n",
    "for artist, word_counts in title_word_counts.items():\n",
    "    print(f\"Artist: {artist}\")\n",
    "    print(\"Five most common words in song titles:\")\n",
    "    for word, count in word_counts.most_common(5):\n",
    "        print(f\"{word}: {count}\")\n",
    "    print(\"\")"
   ]
  },
  {
   "cell_type": "markdown",
   "id": "5dd4fd71",
   "metadata": {},
   "source": [
    "### Song Lengths\n",
    "\n",
    "For each artist, a histogram of song lengths (in terms of number of tokens). If you put the song lengths in a data frame with an artist column, matplotlib will make the plotting quite easy. An example is given to help you out. \n"
   ]
  },
  {
   "cell_type": "code",
   "execution_count": 16,
   "id": "805a1e52",
   "metadata": {},
   "outputs": [
    {
     "data": {
      "text/plain": [
       "artist\n",
       "Artist 1    AxesSubplot(0.125,0.125;0.775x0.755)\n",
       "Artist 2    AxesSubplot(0.125,0.125;0.775x0.755)\n",
       "Name: length, dtype: object"
      ]
     },
     "execution_count": 16,
     "metadata": {},
     "output_type": "execute_result"
    },
    {
     "data": {
      "image/png": "[encoded data removed]",
      "text/plain": [
       "<Figure size 432x288 with 1 Axes>"
      ]
     },
     "metadata": {
      "needs_background": "light"
     },
     "output_type": "display_data"
    }
   ],
   "source": [
    "num_replicates = 1000\n",
    "\n",
    "df = pd.DataFrame({\n",
    "    \"artist\" : ['Artist 1'] * num_replicates + ['Artist 2']*num_replicates,\n",
    "    \"length\" : np.concatenate((np.random.poisson(125,num_replicates),np.random.poisson(150,num_replicates)))\n",
    "})\n",
    "\n",
    "df.groupby('artist')['length'].plot(kind=\"hist\",density=True,alpha=0.5,legend=True)"
   ]
  },
  {
   "cell_type": "markdown",
   "id": "8fde9ebb",
   "metadata": {},
   "source": [
    "Since the lyrics may be stored with carriage returns or tabs, it may be useful to have a function that can collapse whitespace, using regular expressions, and be used for splitting. \n",
    "\n",
    "Q: What does the regular expression `'\\s+'` match on? \n",
    "\n",
    "A: This regular expression matches on one or more whitespace characters. '\\s' represents any whitespace character, which includes spaces, tabs, newlines, and more. '+' quantifier means the preceding pattern should match one or more times consecutively. \n"
   ]
  },
  {
   "cell_type": "code",
   "execution_count": 19,
   "id": "f0e34516",
   "metadata": {},
   "outputs": [],
   "source": [
    "collapse_whitespace = re.compile(r'\\s+')\n",
    "\n",
    "def tokenize_lyrics(lyric) : \n",
    "    \"\"\"strip and split on whitespace\"\"\"\n",
    "    return([item.lower() for item in collapse_whitespace.split(lyric)])"
   ]
  },
  {
   "cell_type": "code",
   "execution_count": 18,
   "id": "2294c440",
   "metadata": {},
   "outputs": [
    {
     "data": {
      "image/png": "[encoded data removed]",
      "text/plain": [
       "<Figure size 432x288 with 1 Axes>"
      ]
     },
     "metadata": {
      "needs_background": "light"
     },
     "output_type": "display_data"
    }
   ],
   "source": [
    "# Your lyric length comparison chart here. \n",
    "\n",
    "# Dictionary to store the average lyric lengths for each artist\n",
    "average_lengths = {}\n",
    "\n",
    "# Calculate the average lyric length for each artist\n",
    "for artist, lyrics_list in cleaned_lyrics_data.items():\n",
    "    total_length = 0\n",
    "    num_lyrics = len(lyrics_list)\n",
    "    for lyrics in lyrics_list:\n",
    "        total_length += len(lyrics)\n",
    "    average_length = total_length / num_lyrics\n",
    "    average_lengths[artist] = average_length\n",
    "\n",
    "# Convert the dictionary to lists for plotting\n",
    "artists = list(average_lengths.keys())\n",
    "lengths = list(average_lengths.values())\n",
    "\n",
    "# Plot the bar chart\n",
    "plt.bar(artists, lengths)\n",
    "plt.xlabel('Artist')\n",
    "plt.ylabel('Average Lyric Length')\n",
    "plt.title('Lyric Length Comparison')\n",
    "plt.xticks(rotation=45)\n",
    "plt.show()"
   ]
  }
 ],
 "metadata": {
  "kernelspec": {
   "display_name": "Python 3 (ipykernel)",
   "language": "python",
   "name": "python3"
  },
  "language_info": {
   "codemirror_mode": {
    "name": "ipython",
    "version": 3
   },
   "file_extension": ".py",
   "mimetype": "text/x-python",
   "name": "python",
   "nbconvert_exporter": "python",
   "pygments_lexer": "ipython3",
   "version": "3.9.7"
  }
 },
 "nbformat": 4,
 "nbformat_minor": 5
}
